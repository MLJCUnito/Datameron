{
  "nbformat": 4,
  "nbformat_minor": 0,
  "metadata": {
    "colab": {
      "name": "NLP_CORD19_Article1.ipynb",
      "provenance": [],
      "collapsed_sections": []
    },
    "kernelspec": {
      "name": "python3",
      "display_name": "Python 3"
    }
  },
  "cells": [
    {
      "cell_type": "code",
      "metadata": {
        "id": "sPnKBHdhzzus",
        "colab": {
          "base_uri": "https://localhost:8080/",
          "height": 122
        },
        "outputId": "4364237c-f627-429d-9cad-edbaa4cd41b0"
      },
      "source": [
        "# Carica file da drive --> da togliere poi per pubblicazione\n",
        "from google.colab import drive\n",
        "drive.mount(\"/content/drive\")"
      ],
      "execution_count": null,
      "outputs": [
        {
          "output_type": "stream",
          "text": [
            "Go to this URL in a browser: https://accounts.google.com/o/oauth2/auth?client_id=947318989803-6bn6qk8qdgf4n4g3pfee6491hc0brc4i.apps.googleusercontent.com&redirect_uri=urn%3aietf%3awg%3aoauth%3a2.0%3aoob&response_type=code&scope=email%20https%3a%2f%2fwww.googleapis.com%2fauth%2fdocs.test%20https%3a%2f%2fwww.googleapis.com%2fauth%2fdrive%20https%3a%2f%2fwww.googleapis.com%2fauth%2fdrive.photos.readonly%20https%3a%2f%2fwww.googleapis.com%2fauth%2fpeopleapi.readonly\n",
            "\n",
            "Enter your authorization code:\n",
            "··········\n",
            "Mounted at /content/drive\n"
          ],
          "name": "stdout"
        }
      ]
    },
    {
      "cell_type": "code",
      "metadata": {
        "id": "O5uOCfHs3GNi"
      },
      "source": [
        "import spacy\n",
        "import json # Extracting parts from sample \n",
        "import pandas as pd \n",
        "import numpy as np\n",
        "from spacy import displacy"
      ],
      "execution_count": null,
      "outputs": []
    },
    {
      "cell_type": "code",
      "metadata": {
        "id": "0kgLCBt3zz76"
      },
      "source": [
        "path_to_sample = \"sample.json\" # --> Path per i dati "
      ],
      "execution_count": null,
      "outputs": []
    },
    {
      "cell_type": "code",
      "metadata": {
        "id": "cSgim0WxVaTJ"
      },
      "source": [
        "# loading json \n",
        "input_file = open(path_to_sample)\n",
        "\n",
        "with input_file as f:\n",
        "    data = json.load(f)"
      ],
      "execution_count": null,
      "outputs": []
    },
    {
      "cell_type": "code",
      "metadata": {
        "id": "WIjmRk8MaPdV",
        "colab": {
          "base_uri": "https://localhost:8080/",
          "height": 309
        },
        "outputId": "7e4f6440-90f0-4804-8f03-6261c8f73ea8"
      },
      "source": [
        "#Navigate trough .json\n",
        "data['abstract']"
      ],
      "execution_count": null,
      "outputs": [
        {
          "output_type": "execute_result",
          "data": {
            "text/plain": [
              "[{'cite_spans': [],\n",
              "  'ref_spans': [],\n",
              "  'section': 'Abstract',\n",
              "  'text': 'Background: Various transcription factors are involved in the process of mutually exclusive expression and clonal variation of the Plasmodium multigene (var) family. Recent studies revealed that a P. falciparum SWI/SNF-related matrix-associated actin-dependent regulator of chromatin (PfSWIB) might trigger stage-specific programmed cell death (PCD), and was not only crucial for the survival and development of parasite, but also had profound effects on the parasite by interacting with other unknown proteins. However, it remains unclear whether PfSIWB is involved in transcriptional regulation of this virulence gene and its functional properties.'},\n",
              " {'cite_spans': [],\n",
              "  'ref_spans': [],\n",
              "  'section': 'Abstract',\n",
              "  'text': 'Methods: A conditional knockdown system \"PfSWIB-FKBP-LID\" was introduced to the parasite clone 3D7, and an integrated parasite line \"PfSWIB-HA-FKBP-LID\" was obtained by drug cycling and clone screening. Growth curve analysis (GCA) was performed to investigate the growth and development of different parasite lines during 96 h in vitro culturing, by assessing parasitemia. Finally, we performed qPCR assays to detect var gene expression profiling in various comparison groups, as well as the mutually exclusive expression pattern of the var genes within a single 48 h life-cycle of P. falciparum in different parasite lines. In addition, RNA-seq was applied to analyze the var gene expression in different lines.'},\n",
              " {'cite_spans': [],\n",
              "  'ref_spans': [],\n",
              "  'section': 'Abstract',\n",
              "  'text': 'Results: GCA revealed that conditional knockdown of PfSWIB could interfere with the growth and development of P. falciparum. The parasitemia of PfSWIB∆ showed a significant decline at 96 h during in vitro culture compared with the PfSWIB and 3D7 lines (P < 0.0001). qPCR and RNA-seq analysis confirmed that depletion of PfSWIB not only silences upsA, upsC and partial upsB var genes, as well as removes the silencing of partial upsB var genes at the ring stage in PfSWIB∆ line, but also leads to aberrant expression of upsA and partial upsB/upsC var genes at the mature stage of P. falciparum, during a single 48-h life-cycle.'},\n",
              " {'cite_spans': [],\n",
              "  'ref_spans': [],\n",
              "  'section': 'Abstract',\n",
              "  'text': 'We demonstrated that PfSWIB was involved in the process of clonal variation in var gene expression, and crucial for the survival and development of Plasmodium parasite. These findings could provide better understanding of the mechanism and function of PfSWIB contributing to the pathogenesis in malaria parasites.'}]"
            ]
          },
          "metadata": {
            "tags": []
          },
          "execution_count": 6
        }
      ]
    },
    {
      "cell_type": "code",
      "metadata": {
        "id": "IFLcik__gY6n"
      },
      "source": [
        "#Lavoriamo su queste o su una slice di queste --> example-sentence\n",
        "ex_sent0 = data['abstract'][0]['text']\n",
        "ex_sent1 = data['abstract'][1]['text']\n",
        "ex_sent2 = data['abstract'][2]['text'] "
      ],
      "execution_count": null,
      "outputs": []
    },
    {
      "cell_type": "code",
      "metadata": {
        "id": "7pJVDv5lv7F-",
        "colab": {
          "base_uri": "https://localhost:8080/",
          "height": 54
        },
        "outputId": "cc269b6d-dfa7-43e4-9307-e9723a4cbf13"
      },
      "source": [
        "print(ex_sent0)"
      ],
      "execution_count": null,
      "outputs": [
        {
          "output_type": "stream",
          "text": [
            "Background: Various transcription factors are involved in the process of mutually exclusive expression and clonal variation of the Plasmodium multigene (var) family. Recent studies revealed that a P. falciparum SWI/SNF-related matrix-associated actin-dependent regulator of chromatin (PfSWIB) might trigger stage-specific programmed cell death (PCD), and was not only crucial for the survival and development of parasite, but also had profound effects on the parasite by interacting with other unknown proteins. However, it remains unclear whether PfSIWB is involved in transcriptional regulation of this virulence gene and its functional properties.\n"
          ],
          "name": "stdout"
        }
      ]
    },
    {
      "cell_type": "code",
      "metadata": {
        "id": "PQu07MlR2obg",
        "colab": {
          "base_uri": "https://localhost:8080/",
          "height": 54
        },
        "outputId": "7777f432-a409-421e-bce5-05d74e1e9a14"
      },
      "source": [
        "print(ex_sent1)"
      ],
      "execution_count": null,
      "outputs": [
        {
          "output_type": "stream",
          "text": [
            "Methods: A conditional knockdown system \"PfSWIB-FKBP-LID\" was introduced to the parasite clone 3D7, and an integrated parasite line \"PfSWIB-HA-FKBP-LID\" was obtained by drug cycling and clone screening. Growth curve analysis (GCA) was performed to investigate the growth and development of different parasite lines during 96 h in vitro culturing, by assessing parasitemia. Finally, we performed qPCR assays to detect var gene expression profiling in various comparison groups, as well as the mutually exclusive expression pattern of the var genes within a single 48 h life-cycle of P. falciparum in different parasite lines. In addition, RNA-seq was applied to analyze the var gene expression in different lines.\n"
          ],
          "name": "stdout"
        }
      ]
    },
    {
      "cell_type": "code",
      "metadata": {
        "id": "FX_UGG8W7BuB",
        "colab": {
          "base_uri": "https://localhost:8080/",
          "height": 54
        },
        "outputId": "c6ad979e-86f2-46f5-c96b-81da3834bb65"
      },
      "source": [
        "print(ex_sent2)"
      ],
      "execution_count": null,
      "outputs": [
        {
          "output_type": "stream",
          "text": [
            "Results: GCA revealed that conditional knockdown of PfSWIB could interfere with the growth and development of P. falciparum. The parasitemia of PfSWIB∆ showed a significant decline at 96 h during in vitro culture compared with the PfSWIB and 3D7 lines (P < 0.0001). qPCR and RNA-seq analysis confirmed that depletion of PfSWIB not only silences upsA, upsC and partial upsB var genes, as well as removes the silencing of partial upsB var genes at the ring stage in PfSWIB∆ line, but also leads to aberrant expression of upsA and partial upsB/upsC var genes at the mature stage of P. falciparum, during a single 48-h life-cycle.\n"
          ],
          "name": "stdout"
        }
      ]
    },
    {
      "cell_type": "markdown",
      "metadata": {
        "id": "qLKof-KFz5Gx"
      },
      "source": [
        "# Tokenization "
      ]
    },
    {
      "cell_type": "code",
      "metadata": {
        "id": "AlRO06OIN5_W"
      },
      "source": [
        "nlp = spacy.load(\"en_core_web_sm\") # Loading English\n",
        "doc = nlp(ex_sent0) # Creating doc"
      ],
      "execution_count": null,
      "outputs": []
    },
    {
      "cell_type": "code",
      "metadata": {
        "id": "xRtnwdOyobi1",
        "colab": {
          "base_uri": "https://localhost:8080/",
          "height": 483
        },
        "outputId": "1aff9454-cdc3-4221-bd1f-7b52e4ebfe8f"
      },
      "source": [
        "tokens_list = np.array([token for token in doc])\n",
        "tokens_table = pd.DataFrame(tokens_list, columns = [\"Token\"])\n",
        "tokens_table.head(14)"
      ],
      "execution_count": null,
      "outputs": [
        {
          "output_type": "execute_result",
          "data": {
            "text/html": [
              "<div>\n",
              "<style scoped>\n",
              "    .dataframe tbody tr th:only-of-type {\n",
              "        vertical-align: middle;\n",
              "    }\n",
              "\n",
              "    .dataframe tbody tr th {\n",
              "        vertical-align: top;\n",
              "    }\n",
              "\n",
              "    .dataframe thead th {\n",
              "        text-align: right;\n",
              "    }\n",
              "</style>\n",
              "<table border=\"1\" class=\"dataframe\">\n",
              "  <thead>\n",
              "    <tr style=\"text-align: right;\">\n",
              "      <th></th>\n",
              "      <th>Token</th>\n",
              "    </tr>\n",
              "  </thead>\n",
              "  <tbody>\n",
              "    <tr>\n",
              "      <th>0</th>\n",
              "      <td>Background</td>\n",
              "    </tr>\n",
              "    <tr>\n",
              "      <th>1</th>\n",
              "      <td>:</td>\n",
              "    </tr>\n",
              "    <tr>\n",
              "      <th>2</th>\n",
              "      <td>Various</td>\n",
              "    </tr>\n",
              "    <tr>\n",
              "      <th>3</th>\n",
              "      <td>transcription</td>\n",
              "    </tr>\n",
              "    <tr>\n",
              "      <th>4</th>\n",
              "      <td>factors</td>\n",
              "    </tr>\n",
              "    <tr>\n",
              "      <th>5</th>\n",
              "      <td>are</td>\n",
              "    </tr>\n",
              "    <tr>\n",
              "      <th>6</th>\n",
              "      <td>involved</td>\n",
              "    </tr>\n",
              "    <tr>\n",
              "      <th>7</th>\n",
              "      <td>in</td>\n",
              "    </tr>\n",
              "    <tr>\n",
              "      <th>8</th>\n",
              "      <td>the</td>\n",
              "    </tr>\n",
              "    <tr>\n",
              "      <th>9</th>\n",
              "      <td>process</td>\n",
              "    </tr>\n",
              "    <tr>\n",
              "      <th>10</th>\n",
              "      <td>of</td>\n",
              "    </tr>\n",
              "    <tr>\n",
              "      <th>11</th>\n",
              "      <td>mutually</td>\n",
              "    </tr>\n",
              "    <tr>\n",
              "      <th>12</th>\n",
              "      <td>exclusive</td>\n",
              "    </tr>\n",
              "    <tr>\n",
              "      <th>13</th>\n",
              "      <td>expression</td>\n",
              "    </tr>\n",
              "  </tbody>\n",
              "</table>\n",
              "</div>"
            ],
            "text/plain": [
              "            Token\n",
              "0      Background\n",
              "1               :\n",
              "2         Various\n",
              "3   transcription\n",
              "4         factors\n",
              "5             are\n",
              "6        involved\n",
              "7              in\n",
              "8             the\n",
              "9         process\n",
              "10             of\n",
              "11       mutually\n",
              "12      exclusive\n",
              "13     expression"
            ]
          },
          "metadata": {
            "tags": []
          },
          "execution_count": 15
        }
      ]
    },
    {
      "cell_type": "code",
      "metadata": {
        "id": "SByQJo5FTiwd",
        "colab": {
          "base_uri": "https://localhost:8080/",
          "height": 483
        },
        "outputId": "0443a852-482c-4e20-a970-ab789e05c6e2"
      },
      "source": [
        "lemmas_list = np.array([[token, token.lemma_, token.is_stop] for token in doc])\n",
        "lemmas_table = pd.DataFrame(words_list, columns = [\"Token\", \"Lemma\", \"Is stopword?\"])\n",
        "lemmas_table.head(14)"
      ],
      "execution_count": null,
      "outputs": [
        {
          "output_type": "execute_result",
          "data": {
            "text/html": [
              "<div>\n",
              "<style scoped>\n",
              "    .dataframe tbody tr th:only-of-type {\n",
              "        vertical-align: middle;\n",
              "    }\n",
              "\n",
              "    .dataframe tbody tr th {\n",
              "        vertical-align: top;\n",
              "    }\n",
              "\n",
              "    .dataframe thead th {\n",
              "        text-align: right;\n",
              "    }\n",
              "</style>\n",
              "<table border=\"1\" class=\"dataframe\">\n",
              "  <thead>\n",
              "    <tr style=\"text-align: right;\">\n",
              "      <th></th>\n",
              "      <th>Token</th>\n",
              "      <th>Lemma</th>\n",
              "      <th>Is stopword?</th>\n",
              "    </tr>\n",
              "  </thead>\n",
              "  <tbody>\n",
              "    <tr>\n",
              "      <th>0</th>\n",
              "      <td>Background</td>\n",
              "      <td>background</td>\n",
              "      <td>False</td>\n",
              "    </tr>\n",
              "    <tr>\n",
              "      <th>1</th>\n",
              "      <td>:</td>\n",
              "      <td>:</td>\n",
              "      <td>False</td>\n",
              "    </tr>\n",
              "    <tr>\n",
              "      <th>2</th>\n",
              "      <td>Various</td>\n",
              "      <td>various</td>\n",
              "      <td>True</td>\n",
              "    </tr>\n",
              "    <tr>\n",
              "      <th>3</th>\n",
              "      <td>transcription</td>\n",
              "      <td>transcription</td>\n",
              "      <td>False</td>\n",
              "    </tr>\n",
              "    <tr>\n",
              "      <th>4</th>\n",
              "      <td>factors</td>\n",
              "      <td>factor</td>\n",
              "      <td>False</td>\n",
              "    </tr>\n",
              "    <tr>\n",
              "      <th>5</th>\n",
              "      <td>are</td>\n",
              "      <td>be</td>\n",
              "      <td>True</td>\n",
              "    </tr>\n",
              "    <tr>\n",
              "      <th>6</th>\n",
              "      <td>involved</td>\n",
              "      <td>involve</td>\n",
              "      <td>False</td>\n",
              "    </tr>\n",
              "    <tr>\n",
              "      <th>7</th>\n",
              "      <td>in</td>\n",
              "      <td>in</td>\n",
              "      <td>True</td>\n",
              "    </tr>\n",
              "    <tr>\n",
              "      <th>8</th>\n",
              "      <td>the</td>\n",
              "      <td>the</td>\n",
              "      <td>True</td>\n",
              "    </tr>\n",
              "    <tr>\n",
              "      <th>9</th>\n",
              "      <td>process</td>\n",
              "      <td>process</td>\n",
              "      <td>False</td>\n",
              "    </tr>\n",
              "    <tr>\n",
              "      <th>10</th>\n",
              "      <td>of</td>\n",
              "      <td>of</td>\n",
              "      <td>True</td>\n",
              "    </tr>\n",
              "    <tr>\n",
              "      <th>11</th>\n",
              "      <td>mutually</td>\n",
              "      <td>mutually</td>\n",
              "      <td>False</td>\n",
              "    </tr>\n",
              "    <tr>\n",
              "      <th>12</th>\n",
              "      <td>exclusive</td>\n",
              "      <td>exclusive</td>\n",
              "      <td>False</td>\n",
              "    </tr>\n",
              "    <tr>\n",
              "      <th>13</th>\n",
              "      <td>expression</td>\n",
              "      <td>expression</td>\n",
              "      <td>False</td>\n",
              "    </tr>\n",
              "  </tbody>\n",
              "</table>\n",
              "</div>"
            ],
            "text/plain": [
              "            Token          Lemma Is stopword?\n",
              "0      Background     background        False\n",
              "1               :              :        False\n",
              "2         Various        various         True\n",
              "3   transcription  transcription        False\n",
              "4         factors         factor        False\n",
              "5             are             be         True\n",
              "6        involved        involve        False\n",
              "7              in             in         True\n",
              "8             the            the         True\n",
              "9         process        process        False\n",
              "10             of             of         True\n",
              "11       mutually       mutually        False\n",
              "12      exclusive      exclusive        False\n",
              "13     expression     expression        False"
            ]
          },
          "metadata": {
            "tags": []
          },
          "execution_count": 17
        }
      ]
    },
    {
      "cell_type": "markdown",
      "metadata": {
        "id": "h449UbPp_m_Z"
      },
      "source": [
        "# Part-of-Speech Tagging"
      ]
    },
    {
      "cell_type": "markdown",
      "metadata": {
        "id": "gDkoJLqv_v8s"
      },
      "source": [
        "Part-of-Speech Tagging"
      ]
    },
    {
      "cell_type": "code",
      "metadata": {
        "id": "nv-QVg1_n0cJ",
        "colab": {
          "base_uri": "https://localhost:8080/",
          "height": 34
        },
        "outputId": "849e3e7c-92a0-4e90-c00a-54db06415af2"
      },
      "source": [
        "# I just do the table for the first 14 words\n",
        "print(doc[0:14])"
      ],
      "execution_count": null,
      "outputs": [
        {
          "output_type": "stream",
          "text": [
            "Background: Various transcription factors are involved in the process of mutually exclusive expression\n"
          ],
          "name": "stdout"
        }
      ]
    },
    {
      "cell_type": "code",
      "metadata": {
        "id": "bIPMG6KgnVrO",
        "colab": {
          "base_uri": "https://localhost:8080/",
          "height": 255
        },
        "outputId": "9ab40709-9f86-4bbf-d71f-923db9ef7d43"
      },
      "source": [
        "for token in doc[0:14]:\n",
        "  print(token.text, token.lemma_, token.pos_, token.tag, token.dep_, token.shape_, token.is_alpha, token.is_stop)"
      ],
      "execution_count": null,
      "outputs": [
        {
          "output_type": "stream",
          "text": [
            "Background background NOUN 15308085513773655218 ROOT Xxxxx True False\n",
            ": : PUNCT 11532473245541075862 punct : False False\n",
            "Various various ADJ 10554686591937588953 amod Xxxxx True True\n",
            "transcription transcription NOUN 15308085513773655218 compound xxxx True False\n",
            "factors factor NOUN 783433942507015291 nsubjpass xxxx True False\n",
            "are be AUX 9188597074677201817 auxpass xxx True True\n",
            "involved involve VERB 3822385049556375858 ROOT xxxx True False\n",
            "in in ADP 1292078113972184607 prep xx True True\n",
            "the the DET 15267657372422890137 det xxx True True\n",
            "process process NOUN 15308085513773655218 pobj xxxx True False\n",
            "of of ADP 1292078113972184607 prep xx True True\n",
            "mutually mutually ADV 164681854541413346 advmod xxxx True False\n",
            "exclusive exclusive ADJ 10554686591937588953 amod xxxx True False\n",
            "expression expression NOUN 15308085513773655218 pobj xxxx True False\n"
          ],
          "name": "stdout"
        }
      ]
    },
    {
      "cell_type": "code",
      "metadata": {
        "id": "A0qXFV5upbLG",
        "colab": {
          "base_uri": "https://localhost:8080/",
          "height": 483
        },
        "outputId": "a00d5cfb-1f89-443d-8997-494e012584a6"
      },
      "source": [
        "words_list = np.array([[token, token.lemma_, token.is_stop, token.pos_, token.tag_, token.dep_] for token in doc])\n",
        "words_table = pd.DataFrame(words_list, columns = [\"Token\", \"Lemma\", \"Is Stopword?\", \"Part of Speech\", \"Morphology\", \"Dependecy\"])\n",
        "words_table.head(14)"
      ],
      "execution_count": null,
      "outputs": [
        {
          "output_type": "execute_result",
          "data": {
            "text/html": [
              "<div>\n",
              "<style scoped>\n",
              "    .dataframe tbody tr th:only-of-type {\n",
              "        vertical-align: middle;\n",
              "    }\n",
              "\n",
              "    .dataframe tbody tr th {\n",
              "        vertical-align: top;\n",
              "    }\n",
              "\n",
              "    .dataframe thead th {\n",
              "        text-align: right;\n",
              "    }\n",
              "</style>\n",
              "<table border=\"1\" class=\"dataframe\">\n",
              "  <thead>\n",
              "    <tr style=\"text-align: right;\">\n",
              "      <th></th>\n",
              "      <th>Token</th>\n",
              "      <th>Lemma</th>\n",
              "      <th>Is Stopword?</th>\n",
              "      <th>Part of Speech</th>\n",
              "      <th>Morphology</th>\n",
              "      <th>Dependecy</th>\n",
              "    </tr>\n",
              "  </thead>\n",
              "  <tbody>\n",
              "    <tr>\n",
              "      <th>0</th>\n",
              "      <td>Background</td>\n",
              "      <td>background</td>\n",
              "      <td>False</td>\n",
              "      <td>NOUN</td>\n",
              "      <td>NN</td>\n",
              "      <td>ROOT</td>\n",
              "    </tr>\n",
              "    <tr>\n",
              "      <th>1</th>\n",
              "      <td>:</td>\n",
              "      <td>:</td>\n",
              "      <td>False</td>\n",
              "      <td>PUNCT</td>\n",
              "      <td>:</td>\n",
              "      <td>punct</td>\n",
              "    </tr>\n",
              "    <tr>\n",
              "      <th>2</th>\n",
              "      <td>Various</td>\n",
              "      <td>various</td>\n",
              "      <td>True</td>\n",
              "      <td>ADJ</td>\n",
              "      <td>JJ</td>\n",
              "      <td>amod</td>\n",
              "    </tr>\n",
              "    <tr>\n",
              "      <th>3</th>\n",
              "      <td>transcription</td>\n",
              "      <td>transcription</td>\n",
              "      <td>False</td>\n",
              "      <td>NOUN</td>\n",
              "      <td>NN</td>\n",
              "      <td>compound</td>\n",
              "    </tr>\n",
              "    <tr>\n",
              "      <th>4</th>\n",
              "      <td>factors</td>\n",
              "      <td>factor</td>\n",
              "      <td>False</td>\n",
              "      <td>NOUN</td>\n",
              "      <td>NNS</td>\n",
              "      <td>nsubjpass</td>\n",
              "    </tr>\n",
              "    <tr>\n",
              "      <th>5</th>\n",
              "      <td>are</td>\n",
              "      <td>be</td>\n",
              "      <td>True</td>\n",
              "      <td>AUX</td>\n",
              "      <td>VBP</td>\n",
              "      <td>auxpass</td>\n",
              "    </tr>\n",
              "    <tr>\n",
              "      <th>6</th>\n",
              "      <td>involved</td>\n",
              "      <td>involve</td>\n",
              "      <td>False</td>\n",
              "      <td>VERB</td>\n",
              "      <td>VBN</td>\n",
              "      <td>ROOT</td>\n",
              "    </tr>\n",
              "    <tr>\n",
              "      <th>7</th>\n",
              "      <td>in</td>\n",
              "      <td>in</td>\n",
              "      <td>True</td>\n",
              "      <td>ADP</td>\n",
              "      <td>IN</td>\n",
              "      <td>prep</td>\n",
              "    </tr>\n",
              "    <tr>\n",
              "      <th>8</th>\n",
              "      <td>the</td>\n",
              "      <td>the</td>\n",
              "      <td>True</td>\n",
              "      <td>DET</td>\n",
              "      <td>DT</td>\n",
              "      <td>det</td>\n",
              "    </tr>\n",
              "    <tr>\n",
              "      <th>9</th>\n",
              "      <td>process</td>\n",
              "      <td>process</td>\n",
              "      <td>False</td>\n",
              "      <td>NOUN</td>\n",
              "      <td>NN</td>\n",
              "      <td>pobj</td>\n",
              "    </tr>\n",
              "    <tr>\n",
              "      <th>10</th>\n",
              "      <td>of</td>\n",
              "      <td>of</td>\n",
              "      <td>True</td>\n",
              "      <td>ADP</td>\n",
              "      <td>IN</td>\n",
              "      <td>prep</td>\n",
              "    </tr>\n",
              "    <tr>\n",
              "      <th>11</th>\n",
              "      <td>mutually</td>\n",
              "      <td>mutually</td>\n",
              "      <td>False</td>\n",
              "      <td>ADV</td>\n",
              "      <td>RB</td>\n",
              "      <td>advmod</td>\n",
              "    </tr>\n",
              "    <tr>\n",
              "      <th>12</th>\n",
              "      <td>exclusive</td>\n",
              "      <td>exclusive</td>\n",
              "      <td>False</td>\n",
              "      <td>ADJ</td>\n",
              "      <td>JJ</td>\n",
              "      <td>amod</td>\n",
              "    </tr>\n",
              "    <tr>\n",
              "      <th>13</th>\n",
              "      <td>expression</td>\n",
              "      <td>expression</td>\n",
              "      <td>False</td>\n",
              "      <td>NOUN</td>\n",
              "      <td>NN</td>\n",
              "      <td>pobj</td>\n",
              "    </tr>\n",
              "  </tbody>\n",
              "</table>\n",
              "</div>"
            ],
            "text/plain": [
              "            Token          Lemma  ... Morphology  Dependecy\n",
              "0      Background     background  ...         NN       ROOT\n",
              "1               :              :  ...          :      punct\n",
              "2         Various        various  ...         JJ       amod\n",
              "3   transcription  transcription  ...         NN   compound\n",
              "4         factors         factor  ...        NNS  nsubjpass\n",
              "5             are             be  ...        VBP    auxpass\n",
              "6        involved        involve  ...        VBN       ROOT\n",
              "7              in             in  ...         IN       prep\n",
              "8             the            the  ...         DT        det\n",
              "9         process        process  ...         NN       pobj\n",
              "10             of             of  ...         IN       prep\n",
              "11       mutually       mutually  ...         RB     advmod\n",
              "12      exclusive      exclusive  ...         JJ       amod\n",
              "13     expression     expression  ...         NN       pobj\n",
              "\n",
              "[14 rows x 6 columns]"
            ]
          },
          "metadata": {
            "tags": []
          },
          "execution_count": 22
        }
      ]
    },
    {
      "cell_type": "code",
      "metadata": {
        "id": "TeK_Q_30u6XF",
        "colab": {
          "base_uri": "https://localhost:8080/",
          "height": 102
        },
        "outputId": "764e4d81-2823-4e37-821d-c47b357dec1a"
      },
      "source": [
        "# Trying to use a visualizer:\n",
        "displacy.serve(doc[0:14], style=\"dep\")"
      ],
      "execution_count": null,
      "outputs": [
        {
          "output_type": "stream",
          "text": [
            "\n",
            "Using the 'dep' visualizer\n",
            "Serving on http://0.0.0.0:5000 ...\n",
            "\n",
            "Shutting down server on port 5000.\n"
          ],
          "name": "stdout"
        }
      ]
    },
    {
      "cell_type": "code",
      "metadata": {
        "id": "h18UuB5qvczf",
        "colab": {
          "base_uri": "https://localhost:8080/",
          "height": 102
        },
        "outputId": "3f6a372d-4001-4a47-8afc-4bf7dcddec3c"
      },
      "source": [
        "#With less words:\n",
        "displacy.serve(doc[2:10], style=\"dep\")"
      ],
      "execution_count": null,
      "outputs": [
        {
          "output_type": "stream",
          "text": [
            "\n",
            "Using the 'dep' visualizer\n",
            "Serving on http://0.0.0.0:5000 ...\n",
            "\n",
            "Shutting down server on port 5000.\n"
          ],
          "name": "stdout"
        }
      ]
    },
    {
      "cell_type": "code",
      "metadata": {
        "id": "p2FmIDKyt5pQ",
        "colab": {
          "base_uri": "https://localhost:8080/"
        },
        "outputId": "6342f274-f5d0-4cf5-a71f-304eeed7dee1"
      },
      "source": [
        "#Trying visualizer in another way (since it took too much time, to run the cells above...)\n",
        "doc2 = nlp(\"Various transcription factors are involved in the process of mutually exclusive expression\")\n",
        "displacy.serve(doc2, style = \"dep\")"
      ],
      "execution_count": null,
      "outputs": [
        {
          "output_type": "stream",
          "text": [
            "\n",
            "Using the 'dep' visualizer\n",
            "Serving on http://0.0.0.0:5000 ...\n",
            "\n"
          ],
          "name": "stdout"
        }
      ]
    },
    {
      "cell_type": "code",
      "metadata": {
        "id": "6qUqpT3EvjGP"
      },
      "source": [
        ""
      ],
      "execution_count": null,
      "outputs": []
    },
    {
      "cell_type": "markdown",
      "metadata": {
        "id": "sUNEutmcMVTj"
      },
      "source": [
        "# Text Processing\n",
        "When processing large volumes of text, the statistical models are usually more efficient if you let them work on batches of texts. spaCy’s nlp.pipe method takes an iterable of texts and yields processed Doc objects. The batching is done internally."
      ]
    },
    {
      "cell_type": "code",
      "metadata": {
        "id": "evO-den-kKre"
      },
      "source": [
        "texts = [ex_sent0, ex_sent1, ex_sent2]\n",
        "docs = list(nlp.pipe(texts))"
      ],
      "execution_count": null,
      "outputs": []
    },
    {
      "cell_type": "code",
      "metadata": {
        "id": "t2QBOjA9kOvK",
        "colab": {
          "base_uri": "https://localhost:8080/",
          "height": 89
        },
        "outputId": "05f9efd6-c1e5-4f9f-9d51-04c1052bd7bf"
      },
      "source": [
        "# It doesn't work as we might expect --> It's hard to cope with Scientific terms\n",
        "for doc in nlp.pipe(texts, disable=[\"tagger\", \"parser\"]):\n",
        "    print([(ent.text, ent.label_) for ent in doc.ents])"
      ],
      "execution_count": null,
      "outputs": [
        {
          "output_type": "stream",
          "text": [
            "[('Plasmodium', 'GPE'), ('SNF', 'ORG'), ('PCD', 'ORG')]\n",
            "[('3D7', 'CARDINAL'), ('GCA', 'ORG'), ('96', 'CARDINAL'), ('48', 'CARDINAL'), ('P. falciparum', 'GPE'), ('RNA-seq', 'ORG')]\n",
            "[('GCA', 'ORG'), ('PfSWIB∆', 'PERSON'), ('96', 'CARDINAL'), ('PfSWIB', 'ORG'), ('3D7', 'CARDINAL'), ('0.0001', 'CARDINAL'), ('RNA', 'ORG'), ('PfSWIB∆', 'CARDINAL'), ('P. falciparum', 'PERSON')]\n"
          ],
          "name": "stdout"
        }
      ]
    },
    {
      "cell_type": "code",
      "metadata": {
        "id": "nYgbI7S4rO9w"
      },
      "source": [
        ""
      ],
      "execution_count": null,
      "outputs": []
    }
  ]
}